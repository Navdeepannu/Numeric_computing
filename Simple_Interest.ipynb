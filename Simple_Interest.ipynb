{
  "nbformat": 4,
  "nbformat_minor": 0,
  "metadata": {
    "colab": {
      "provenance": [],
      "authorship_tag": "ABX9TyPUIrv9JKKhPBceEZb2cYRT",
      "include_colab_link": true
    },
    "kernelspec": {
      "name": "python3",
      "display_name": "Python 3"
    },
    "language_info": {
      "name": "python"
    }
  },
  "cells": [
    {
      "cell_type": "markdown",
      "metadata": {
        "id": "view-in-github",
        "colab_type": "text"
      },
      "source": [
        "<a href=\"https://colab.research.google.com/github/Navdeepannu/Numeric_computing/blob/main/Simple_Interest.ipynb\" target=\"_parent\"><img src=\"https://colab.research.google.com/assets/colab-badge.svg\" alt=\"Open In Colab\"/></a>"
      ]
    },
    {
      "cell_type": "code",
      "execution_count": 6,
      "metadata": {
        "colab": {
          "base_uri": "https://localhost:8080/"
        },
        "id": "8SE87nxa2WiU",
        "outputId": "3d46a932-25f2-46ac-b0bf-1bac377a20ae"
      },
      "outputs": [
        {
          "output_type": "stream",
          "name": "stdout",
          "text": [
            "Enter the number of years: 2\n",
            "Enter the number of months: 6\n",
            "Enter the number of days: 73\n",
            "Total time in years: 2.7\n"
          ]
        }
      ],
      "source": [
        "# Part A\n",
        "# taking input in years, months and days\n",
        "def get_time(year, months, days):\n",
        "    #calculating total_years\n",
        "    total_years = year + months / 12 + days / 365\n",
        "    return round(total_years, 1); #rounding the number of years\n",
        "\n",
        "# Input from the user for Part A\n",
        "year = int(input(\"Enter the number of years: \"))\n",
        "months = int(input(\"Enter the number of months: \"))\n",
        "days = int(input(\"Enter the number of days: \"))\n",
        "\n",
        "\n",
        "# Print the total time in years, function call\n",
        "total_time = get_time(year, months, days)\n",
        "print(\"Total time in years:\", total_time)"
      ]
    },
    {
      "cell_type": "code",
      "source": [
        "# Part A\n",
        "def get_time(year, months, days):\n",
        "    #calculating total_years\n",
        "    total_years = year + months / 12 + days / 365\n",
        "    return round(total_years, 1); #rounding the number of years\n",
        "\n",
        "\n",
        "# Part B\n",
        "def simple_interest(principal, rate):\n",
        "    #usinf time function\n",
        "    time = get_time(year, months, days)\n",
        "\n",
        "    #calculating interest\n",
        "    interest = (principal * rate * time) / 100\n",
        "    return interest;\n",
        "\n",
        "# Input from the user for Part A\n",
        "year = int(input(\"Enter the number of years: \"))\n",
        "months = int(input(\"Enter the number of months: \"))\n",
        "days = int(input(\"Enter the number of days: \"))\n",
        "\n",
        "# Input from the user for Part B\n",
        "principal = float(input(\"Enter the principal amount: \"))\n",
        "rate = float(input(\"Enter the rate of interest: \"))\n",
        "\n",
        "# Print the total time in years, function call\n",
        "total_time = get_time(year, months, days)\n",
        "print(\"Total time in years:\", total_time)\n",
        "\n",
        "# Print the simple interest, function call\n",
        "interest = simple_interest(principal, rate)\n",
        "print(\"Simple interest:\", interest)"
      ],
      "metadata": {
        "colab": {
          "base_uri": "https://localhost:8080/"
        },
        "id": "JYEBQlIn7h1H",
        "outputId": "7e88922b-6c02-4233-daee-ad12bd312e47"
      },
      "execution_count": 7,
      "outputs": [
        {
          "output_type": "stream",
          "name": "stdout",
          "text": [
            "Enter the number of years: 2\n",
            "Enter the number of months: 6\n",
            "Enter the number of days: 73\n",
            "Enter the principal amount: 1000\n",
            "Enter the rate of interest: 5\n",
            "Total time in years: 2.7\n",
            "Simple interest: 135.0\n"
          ]
        }
      ]
    },
    {
      "cell_type": "code",
      "source": [],
      "metadata": {
        "id": "Kvn4-_zR87iJ"
      },
      "execution_count": null,
      "outputs": []
    }
  ]
}